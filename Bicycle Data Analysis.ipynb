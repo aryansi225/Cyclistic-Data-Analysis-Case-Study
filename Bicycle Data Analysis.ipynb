{
 "cells": [
  {
   "cell_type": "code",
   "execution_count": 1,
   "metadata": {},
   "outputs": [],
   "source": [
    "import pandas as pd\n",
    "import numpy as np\n",
    "import seaborn as sns"
   ]
  },
  {
   "cell_type": "code",
   "execution_count": 2,
   "metadata": {},
   "outputs": [],
   "source": [
    "# Read last 12 months CSV into dataframe and merge into new data frame\n",
    "df1 = pd.read_csv(\"202011-divvy-tripdata.csv\")\n",
    "df2 = pd.read_csv(\"202012-divvy-tripdata.csv\")\n",
    "df3 = pd.read_csv(\"202101-divvy-tripdata.csv\")\n",
    "df4 = pd.read_csv(\"202102-divvy-tripdata.csv\")\n",
    "df5 = pd.read_csv(\"202103-divvy-tripdata.csv\")\n",
    "df6 = pd.read_csv(\"202104-divvy-tripdata.csv\")\n",
    "df7 = pd.read_csv(\"202105-divvy-tripdata.csv\")\n",
    "df8 = pd.read_csv(\"202106-divvy-tripdata.csv\")\n",
    "df9 = pd.read_csv(\"202107-divvy-tripdata.csv\")\n",
    "df10 = pd.read_csv(\"202108-divvy-tripdata.csv\")\n",
    "df11 = pd.read_csv(\"202109-divvy-tripdata.csv\")\n",
    "df12 = pd.read_csv(\"202110-divvy-tripdata.csv\")\n",
    "df = pd.concat([df1,df2,df3,df4,df5,df6,df7,df8,df9,df10,df11,df12])"
   ]
  },
  {
   "cell_type": "code",
   "execution_count": 3,
   "metadata": {},
   "outputs": [
    {
     "data": {
      "text/plain": [
       "(5378834, 13)"
      ]
     },
     "execution_count": 3,
     "metadata": {},
     "output_type": "execute_result"
    }
   ],
   "source": [
    "# Get the length and width of the data frame\n",
    "df.shape"
   ]
  },
  {
   "cell_type": "code",
   "execution_count": 4,
   "metadata": {},
   "outputs": [
    {
     "data": {
      "text/html": [
       "<div>\n",
       "<style scoped>\n",
       "    .dataframe tbody tr th:only-of-type {\n",
       "        vertical-align: middle;\n",
       "    }\n",
       "\n",
       "    .dataframe tbody tr th {\n",
       "        vertical-align: top;\n",
       "    }\n",
       "\n",
       "    .dataframe thead th {\n",
       "        text-align: right;\n",
       "    }\n",
       "</style>\n",
       "<table border=\"1\" class=\"dataframe\">\n",
       "  <thead>\n",
       "    <tr style=\"text-align: right;\">\n",
       "      <th></th>\n",
       "      <th>ride_id</th>\n",
       "      <th>rideable_type</th>\n",
       "      <th>started_at</th>\n",
       "      <th>ended_at</th>\n",
       "      <th>start_station_name</th>\n",
       "      <th>start_station_id</th>\n",
       "      <th>end_station_name</th>\n",
       "      <th>end_station_id</th>\n",
       "      <th>start_lat</th>\n",
       "      <th>start_lng</th>\n",
       "      <th>end_lat</th>\n",
       "      <th>end_lng</th>\n",
       "      <th>member_casual</th>\n",
       "    </tr>\n",
       "  </thead>\n",
       "  <tbody>\n",
       "    <tr>\n",
       "      <td>0</td>\n",
       "      <td>BD0A6FF6FFF9B921</td>\n",
       "      <td>electric_bike</td>\n",
       "      <td>2020-11-01 13:36:00</td>\n",
       "      <td>2020-11-01 13:45:40</td>\n",
       "      <td>Dearborn St &amp; Erie St</td>\n",
       "      <td>110</td>\n",
       "      <td>St. Clair St &amp; Erie St</td>\n",
       "      <td>211</td>\n",
       "      <td>41.894177</td>\n",
       "      <td>-87.629127</td>\n",
       "      <td>41.894434</td>\n",
       "      <td>-87.623379</td>\n",
       "      <td>casual</td>\n",
       "    </tr>\n",
       "    <tr>\n",
       "      <td>1</td>\n",
       "      <td>96A7A7A4BDE4F82D</td>\n",
       "      <td>electric_bike</td>\n",
       "      <td>2020-11-01 10:03:26</td>\n",
       "      <td>2020-11-01 10:14:45</td>\n",
       "      <td>Franklin St &amp; Illinois St</td>\n",
       "      <td>672</td>\n",
       "      <td>Noble St &amp; Milwaukee Ave</td>\n",
       "      <td>29</td>\n",
       "      <td>41.890959</td>\n",
       "      <td>-87.635343</td>\n",
       "      <td>41.900675</td>\n",
       "      <td>-87.662480</td>\n",
       "      <td>casual</td>\n",
       "    </tr>\n",
       "    <tr>\n",
       "      <td>2</td>\n",
       "      <td>C61526D06582BDC5</td>\n",
       "      <td>electric_bike</td>\n",
       "      <td>2020-11-01 00:34:05</td>\n",
       "      <td>2020-11-01 01:03:06</td>\n",
       "      <td>Lake Shore Dr &amp; Monroe St</td>\n",
       "      <td>76</td>\n",
       "      <td>Federal St &amp; Polk St</td>\n",
       "      <td>41</td>\n",
       "      <td>41.880983</td>\n",
       "      <td>-87.616754</td>\n",
       "      <td>41.872054</td>\n",
       "      <td>-87.629550</td>\n",
       "      <td>casual</td>\n",
       "    </tr>\n",
       "    <tr>\n",
       "      <td>3</td>\n",
       "      <td>E533E89C32080B9E</td>\n",
       "      <td>electric_bike</td>\n",
       "      <td>2020-11-01 00:45:16</td>\n",
       "      <td>2020-11-01 00:54:31</td>\n",
       "      <td>Leavitt St &amp; Chicago Ave</td>\n",
       "      <td>659</td>\n",
       "      <td>Stave St &amp; Armitage Ave</td>\n",
       "      <td>185</td>\n",
       "      <td>41.895499</td>\n",
       "      <td>-87.682013</td>\n",
       "      <td>41.917744</td>\n",
       "      <td>-87.691392</td>\n",
       "      <td>casual</td>\n",
       "    </tr>\n",
       "    <tr>\n",
       "      <td>4</td>\n",
       "      <td>1C9F4EF18C168C60</td>\n",
       "      <td>electric_bike</td>\n",
       "      <td>2020-11-01 15:43:25</td>\n",
       "      <td>2020-11-01 16:16:52</td>\n",
       "      <td>Buckingham Fountain</td>\n",
       "      <td>2</td>\n",
       "      <td>Buckingham Fountain</td>\n",
       "      <td>2</td>\n",
       "      <td>41.876497</td>\n",
       "      <td>-87.620358</td>\n",
       "      <td>41.876448</td>\n",
       "      <td>-87.620338</td>\n",
       "      <td>casual</td>\n",
       "    </tr>\n",
       "  </tbody>\n",
       "</table>\n",
       "</div>"
      ],
      "text/plain": [
       "            ride_id  rideable_type           started_at             ended_at  \\\n",
       "0  BD0A6FF6FFF9B921  electric_bike  2020-11-01 13:36:00  2020-11-01 13:45:40   \n",
       "1  96A7A7A4BDE4F82D  electric_bike  2020-11-01 10:03:26  2020-11-01 10:14:45   \n",
       "2  C61526D06582BDC5  electric_bike  2020-11-01 00:34:05  2020-11-01 01:03:06   \n",
       "3  E533E89C32080B9E  electric_bike  2020-11-01 00:45:16  2020-11-01 00:54:31   \n",
       "4  1C9F4EF18C168C60  electric_bike  2020-11-01 15:43:25  2020-11-01 16:16:52   \n",
       "\n",
       "          start_station_name start_station_id          end_station_name  \\\n",
       "0      Dearborn St & Erie St              110    St. Clair St & Erie St   \n",
       "1  Franklin St & Illinois St              672  Noble St & Milwaukee Ave   \n",
       "2  Lake Shore Dr & Monroe St               76      Federal St & Polk St   \n",
       "3   Leavitt St & Chicago Ave              659   Stave St & Armitage Ave   \n",
       "4        Buckingham Fountain                2       Buckingham Fountain   \n",
       "\n",
       "  end_station_id  start_lat  start_lng    end_lat    end_lng member_casual  \n",
       "0            211  41.894177 -87.629127  41.894434 -87.623379        casual  \n",
       "1             29  41.890959 -87.635343  41.900675 -87.662480        casual  \n",
       "2             41  41.880983 -87.616754  41.872054 -87.629550        casual  \n",
       "3            185  41.895499 -87.682013  41.917744 -87.691392        casual  \n",
       "4              2  41.876497 -87.620358  41.876448 -87.620338        casual  "
      ]
     },
     "execution_count": 4,
     "metadata": {},
     "output_type": "execute_result"
    }
   ],
   "source": [
    "#View the first 5 rows of the dataframe\n",
    "df.head(5)"
   ]
  },
  {
   "cell_type": "code",
   "execution_count": 5,
   "metadata": {},
   "outputs": [
    {
     "data": {
      "text/plain": [
       "(5378834, 13)"
      ]
     },
     "execution_count": 5,
     "metadata": {},
     "output_type": "execute_result"
    }
   ],
   "source": [
    "#Clean data by removing duplicates\n",
    "df.drop_duplicates()\n",
    "df.shape"
   ]
  },
  {
   "cell_type": "code",
   "execution_count": 6,
   "metadata": {},
   "outputs": [
    {
     "data": {
      "text/html": [
       "<div>\n",
       "<style scoped>\n",
       "    .dataframe tbody tr th:only-of-type {\n",
       "        vertical-align: middle;\n",
       "    }\n",
       "\n",
       "    .dataframe tbody tr th {\n",
       "        vertical-align: top;\n",
       "    }\n",
       "\n",
       "    .dataframe thead th {\n",
       "        text-align: right;\n",
       "    }\n",
       "</style>\n",
       "<table border=\"1\" class=\"dataframe\">\n",
       "  <thead>\n",
       "    <tr style=\"text-align: right;\">\n",
       "      <th></th>\n",
       "      <th>ride_id</th>\n",
       "      <th>rideable_type</th>\n",
       "      <th>started_at</th>\n",
       "      <th>ended_at</th>\n",
       "      <th>start_station_name</th>\n",
       "      <th>start_station_id</th>\n",
       "      <th>end_station_name</th>\n",
       "      <th>end_station_id</th>\n",
       "      <th>start_lat</th>\n",
       "      <th>start_lng</th>\n",
       "      <th>end_lat</th>\n",
       "      <th>end_lng</th>\n",
       "      <th>member_casual</th>\n",
       "      <th>ride_length</th>\n",
       "      <th>day_of_week</th>\n",
       "    </tr>\n",
       "  </thead>\n",
       "  <tbody>\n",
       "    <tr>\n",
       "      <td>0</td>\n",
       "      <td>BD0A6FF6FFF9B921</td>\n",
       "      <td>electric_bike</td>\n",
       "      <td>2020-11-01 13:36:00</td>\n",
       "      <td>2020-11-01 13:45:40</td>\n",
       "      <td>Dearborn St &amp; Erie St</td>\n",
       "      <td>110</td>\n",
       "      <td>St. Clair St &amp; Erie St</td>\n",
       "      <td>211</td>\n",
       "      <td>41.894177</td>\n",
       "      <td>-87.629127</td>\n",
       "      <td>41.894434</td>\n",
       "      <td>-87.623379</td>\n",
       "      <td>casual</td>\n",
       "      <td>00:09:40</td>\n",
       "      <td>Sunday</td>\n",
       "    </tr>\n",
       "    <tr>\n",
       "      <td>1</td>\n",
       "      <td>96A7A7A4BDE4F82D</td>\n",
       "      <td>electric_bike</td>\n",
       "      <td>2020-11-01 10:03:26</td>\n",
       "      <td>2020-11-01 10:14:45</td>\n",
       "      <td>Franklin St &amp; Illinois St</td>\n",
       "      <td>672</td>\n",
       "      <td>Noble St &amp; Milwaukee Ave</td>\n",
       "      <td>29</td>\n",
       "      <td>41.890959</td>\n",
       "      <td>-87.635343</td>\n",
       "      <td>41.900675</td>\n",
       "      <td>-87.662480</td>\n",
       "      <td>casual</td>\n",
       "      <td>00:11:19</td>\n",
       "      <td>Sunday</td>\n",
       "    </tr>\n",
       "    <tr>\n",
       "      <td>2</td>\n",
       "      <td>C61526D06582BDC5</td>\n",
       "      <td>electric_bike</td>\n",
       "      <td>2020-11-01 00:34:05</td>\n",
       "      <td>2020-11-01 01:03:06</td>\n",
       "      <td>Lake Shore Dr &amp; Monroe St</td>\n",
       "      <td>76</td>\n",
       "      <td>Federal St &amp; Polk St</td>\n",
       "      <td>41</td>\n",
       "      <td>41.880983</td>\n",
       "      <td>-87.616754</td>\n",
       "      <td>41.872054</td>\n",
       "      <td>-87.629550</td>\n",
       "      <td>casual</td>\n",
       "      <td>00:29:01</td>\n",
       "      <td>Sunday</td>\n",
       "    </tr>\n",
       "    <tr>\n",
       "      <td>3</td>\n",
       "      <td>E533E89C32080B9E</td>\n",
       "      <td>electric_bike</td>\n",
       "      <td>2020-11-01 00:45:16</td>\n",
       "      <td>2020-11-01 00:54:31</td>\n",
       "      <td>Leavitt St &amp; Chicago Ave</td>\n",
       "      <td>659</td>\n",
       "      <td>Stave St &amp; Armitage Ave</td>\n",
       "      <td>185</td>\n",
       "      <td>41.895499</td>\n",
       "      <td>-87.682013</td>\n",
       "      <td>41.917744</td>\n",
       "      <td>-87.691392</td>\n",
       "      <td>casual</td>\n",
       "      <td>00:09:15</td>\n",
       "      <td>Sunday</td>\n",
       "    </tr>\n",
       "    <tr>\n",
       "      <td>4</td>\n",
       "      <td>1C9F4EF18C168C60</td>\n",
       "      <td>electric_bike</td>\n",
       "      <td>2020-11-01 15:43:25</td>\n",
       "      <td>2020-11-01 16:16:52</td>\n",
       "      <td>Buckingham Fountain</td>\n",
       "      <td>2</td>\n",
       "      <td>Buckingham Fountain</td>\n",
       "      <td>2</td>\n",
       "      <td>41.876497</td>\n",
       "      <td>-87.620358</td>\n",
       "      <td>41.876448</td>\n",
       "      <td>-87.620338</td>\n",
       "      <td>casual</td>\n",
       "      <td>00:33:27</td>\n",
       "      <td>Sunday</td>\n",
       "    </tr>\n",
       "  </tbody>\n",
       "</table>\n",
       "</div>"
      ],
      "text/plain": [
       "            ride_id  rideable_type           started_at             ended_at  \\\n",
       "0  BD0A6FF6FFF9B921  electric_bike  2020-11-01 13:36:00  2020-11-01 13:45:40   \n",
       "1  96A7A7A4BDE4F82D  electric_bike  2020-11-01 10:03:26  2020-11-01 10:14:45   \n",
       "2  C61526D06582BDC5  electric_bike  2020-11-01 00:34:05  2020-11-01 01:03:06   \n",
       "3  E533E89C32080B9E  electric_bike  2020-11-01 00:45:16  2020-11-01 00:54:31   \n",
       "4  1C9F4EF18C168C60  electric_bike  2020-11-01 15:43:25  2020-11-01 16:16:52   \n",
       "\n",
       "          start_station_name start_station_id          end_station_name  \\\n",
       "0      Dearborn St & Erie St              110    St. Clair St & Erie St   \n",
       "1  Franklin St & Illinois St              672  Noble St & Milwaukee Ave   \n",
       "2  Lake Shore Dr & Monroe St               76      Federal St & Polk St   \n",
       "3   Leavitt St & Chicago Ave              659   Stave St & Armitage Ave   \n",
       "4        Buckingham Fountain                2       Buckingham Fountain   \n",
       "\n",
       "  end_station_id  start_lat  start_lng    end_lat    end_lng member_casual  \\\n",
       "0            211  41.894177 -87.629127  41.894434 -87.623379        casual   \n",
       "1             29  41.890959 -87.635343  41.900675 -87.662480        casual   \n",
       "2             41  41.880983 -87.616754  41.872054 -87.629550        casual   \n",
       "3            185  41.895499 -87.682013  41.917744 -87.691392        casual   \n",
       "4              2  41.876497 -87.620358  41.876448 -87.620338        casual   \n",
       "\n",
       "  ride_length day_of_week  \n",
       "0    00:09:40      Sunday  \n",
       "1    00:11:19      Sunday  \n",
       "2    00:29:01      Sunday  \n",
       "3    00:09:15      Sunday  \n",
       "4    00:33:27      Sunday  "
      ]
     },
     "execution_count": 6,
     "metadata": {},
     "output_type": "execute_result"
    }
   ],
   "source": [
    "# Find the ride length of ride and the start day of the week\n",
    "df['ride_length'] =  pd.to_datetime(df['ended_at'],format=\"%Y-%m-%d %H:%M:%S\") - pd.to_datetime(df['started_at'],format=\"%Y-%m-%d %H:%M:%S\")\n",
    "df['day_of_week'] = pd.to_datetime(df['started_at'],format=\"%Y-%m-%d %H:%M:%S\").dt.day_name()\n",
    "df.head(5)"
   ]
  },
  {
   "cell_type": "code",
   "execution_count": 7,
   "metadata": {},
   "outputs": [
    {
     "data": {
      "text/html": [
       "<div>\n",
       "<style scoped>\n",
       "    .dataframe tbody tr th:only-of-type {\n",
       "        vertical-align: middle;\n",
       "    }\n",
       "\n",
       "    .dataframe tbody tr th {\n",
       "        vertical-align: top;\n",
       "    }\n",
       "\n",
       "    .dataframe thead th {\n",
       "        text-align: right;\n",
       "    }\n",
       "</style>\n",
       "<table border=\"1\" class=\"dataframe\">\n",
       "  <thead>\n",
       "    <tr style=\"text-align: right;\">\n",
       "      <th></th>\n",
       "      <th>start_lat</th>\n",
       "      <th>start_lng</th>\n",
       "      <th>end_lat</th>\n",
       "      <th>end_lng</th>\n",
       "      <th>ride_length</th>\n",
       "    </tr>\n",
       "  </thead>\n",
       "  <tbody>\n",
       "    <tr>\n",
       "      <td>count</td>\n",
       "      <td>5.378834e+06</td>\n",
       "      <td>5.378834e+06</td>\n",
       "      <td>5.374003e+06</td>\n",
       "      <td>5.374003e+06</td>\n",
       "      <td>5378834</td>\n",
       "    </tr>\n",
       "    <tr>\n",
       "      <td>mean</td>\n",
       "      <td>4.190179e+01</td>\n",
       "      <td>-8.764576e+01</td>\n",
       "      <td>4.190207e+01</td>\n",
       "      <td>-8.764598e+01</td>\n",
       "      <td>0 days 00:20:29.374965</td>\n",
       "    </tr>\n",
       "    <tr>\n",
       "      <td>std</td>\n",
       "      <td>4.548065e-02</td>\n",
       "      <td>2.801962e-02</td>\n",
       "      <td>4.558547e-02</td>\n",
       "      <td>2.819680e-02</td>\n",
       "      <td>0 days 04:59:59.531975</td>\n",
       "    </tr>\n",
       "    <tr>\n",
       "      <td>min</td>\n",
       "      <td>4.164000e+01</td>\n",
       "      <td>-8.784000e+01</td>\n",
       "      <td>4.151000e+01</td>\n",
       "      <td>-8.807000e+01</td>\n",
       "      <td>-21 days +19:50:02</td>\n",
       "    </tr>\n",
       "    <tr>\n",
       "      <td>25%</td>\n",
       "      <td>4.188189e+01</td>\n",
       "      <td>-8.766000e+01</td>\n",
       "      <td>4.188209e+01</td>\n",
       "      <td>-8.766000e+01</td>\n",
       "      <td>0 days 00:06:58</td>\n",
       "    </tr>\n",
       "    <tr>\n",
       "      <td>50%</td>\n",
       "      <td>4.189964e+01</td>\n",
       "      <td>-8.764178e+01</td>\n",
       "      <td>4.190000e+01</td>\n",
       "      <td>-8.764253e+01</td>\n",
       "      <td>0 days 00:12:23</td>\n",
       "    </tr>\n",
       "    <tr>\n",
       "      <td>75%</td>\n",
       "      <td>4.192914e+01</td>\n",
       "      <td>-8.762772e+01</td>\n",
       "      <td>4.192955e+01</td>\n",
       "      <td>-8.762775e+01</td>\n",
       "      <td>0 days 00:22:26</td>\n",
       "    </tr>\n",
       "    <tr>\n",
       "      <td>max</td>\n",
       "      <td>4.208000e+01</td>\n",
       "      <td>-8.752000e+01</td>\n",
       "      <td>4.216812e+01</td>\n",
       "      <td>-8.744000e+01</td>\n",
       "      <td>38 days 20:24:09</td>\n",
       "    </tr>\n",
       "  </tbody>\n",
       "</table>\n",
       "</div>"
      ],
      "text/plain": [
       "          start_lat     start_lng       end_lat       end_lng  \\\n",
       "count  5.378834e+06  5.378834e+06  5.374003e+06  5.374003e+06   \n",
       "mean   4.190179e+01 -8.764576e+01  4.190207e+01 -8.764598e+01   \n",
       "std    4.548065e-02  2.801962e-02  4.558547e-02  2.819680e-02   \n",
       "min    4.164000e+01 -8.784000e+01  4.151000e+01 -8.807000e+01   \n",
       "25%    4.188189e+01 -8.766000e+01  4.188209e+01 -8.766000e+01   \n",
       "50%    4.189964e+01 -8.764178e+01  4.190000e+01 -8.764253e+01   \n",
       "75%    4.192914e+01 -8.762772e+01  4.192955e+01 -8.762775e+01   \n",
       "max    4.208000e+01 -8.752000e+01  4.216812e+01 -8.744000e+01   \n",
       "\n",
       "                  ride_length  \n",
       "count                 5378834  \n",
       "mean   0 days 00:20:29.374965  \n",
       "std    0 days 04:59:59.531975  \n",
       "min        -21 days +19:50:02  \n",
       "25%           0 days 00:06:58  \n",
       "50%           0 days 00:12:23  \n",
       "75%           0 days 00:22:26  \n",
       "max          38 days 20:24:09  "
      ]
     },
     "execution_count": 7,
     "metadata": {},
     "output_type": "execute_result"
    }
   ],
   "source": [
    "#Check the summary of the dataframe\n",
    "df.describe()"
   ]
  },
  {
   "cell_type": "code",
   "execution_count": 8,
   "metadata": {},
   "outputs": [
    {
     "data": {
      "text/plain": [
       "(5378834, 15)"
      ]
     },
     "execution_count": 8,
     "metadata": {},
     "output_type": "execute_result"
    }
   ],
   "source": [
    "df.shape"
   ]
  },
  {
   "cell_type": "code",
   "execution_count": 9,
   "metadata": {},
   "outputs": [
    {
     "data": {
      "text/plain": [
       "(5296787, 15)"
      ]
     },
     "execution_count": 9,
     "metadata": {},
     "output_type": "execute_result"
    }
   ],
   "source": [
    "#Remove rides with negative or zero length\n",
    "df_pos_ride = df[df['ride_length'].astype('timedelta64[m]') > 0]\n",
    "df_pos_ride.shape"
   ]
  },
  {
   "cell_type": "code",
   "execution_count": 10,
   "metadata": {},
   "outputs": [
    {
     "data": {
      "text/html": [
       "<div>\n",
       "<style scoped>\n",
       "    .dataframe tbody tr th:only-of-type {\n",
       "        vertical-align: middle;\n",
       "    }\n",
       "\n",
       "    .dataframe tbody tr th {\n",
       "        vertical-align: top;\n",
       "    }\n",
       "\n",
       "    .dataframe thead th {\n",
       "        text-align: right;\n",
       "    }\n",
       "</style>\n",
       "<table border=\"1\" class=\"dataframe\">\n",
       "  <thead>\n",
       "    <tr style=\"text-align: right;\">\n",
       "      <th></th>\n",
       "      <th>start_lat</th>\n",
       "      <th>start_lng</th>\n",
       "      <th>end_lat</th>\n",
       "      <th>end_lng</th>\n",
       "      <th>ride_length</th>\n",
       "    </tr>\n",
       "  </thead>\n",
       "  <tbody>\n",
       "    <tr>\n",
       "      <td>count</td>\n",
       "      <td>5.296787e+06</td>\n",
       "      <td>5.296787e+06</td>\n",
       "      <td>5.291998e+06</td>\n",
       "      <td>5.291998e+06</td>\n",
       "      <td>5296787</td>\n",
       "    </tr>\n",
       "    <tr>\n",
       "      <td>mean</td>\n",
       "      <td>4.190183e+01</td>\n",
       "      <td>-8.764574e+01</td>\n",
       "      <td>4.190211e+01</td>\n",
       "      <td>-8.764596e+01</td>\n",
       "      <td>0 days 00:22:50.475192</td>\n",
       "    </tr>\n",
       "    <tr>\n",
       "      <td>std</td>\n",
       "      <td>4.541528e-02</td>\n",
       "      <td>2.795828e-02</td>\n",
       "      <td>4.552143e-02</td>\n",
       "      <td>2.813829e-02</td>\n",
       "      <td>0 days 03:01:35.172420</td>\n",
       "    </tr>\n",
       "    <tr>\n",
       "      <td>min</td>\n",
       "      <td>4.164000e+01</td>\n",
       "      <td>-8.784000e+01</td>\n",
       "      <td>4.151000e+01</td>\n",
       "      <td>-8.807000e+01</td>\n",
       "      <td>0 days 00:01:00</td>\n",
       "    </tr>\n",
       "    <tr>\n",
       "      <td>25%</td>\n",
       "      <td>4.188189e+01</td>\n",
       "      <td>-8.766000e+01</td>\n",
       "      <td>4.188209e+01</td>\n",
       "      <td>-8.766000e+01</td>\n",
       "      <td>0 days 00:07:11</td>\n",
       "    </tr>\n",
       "    <tr>\n",
       "      <td>50%</td>\n",
       "      <td>4.189964e+01</td>\n",
       "      <td>-8.764178e+01</td>\n",
       "      <td>4.190000e+01</td>\n",
       "      <td>-8.764259e+01</td>\n",
       "      <td>0 days 00:12:35</td>\n",
       "    </tr>\n",
       "    <tr>\n",
       "      <td>75%</td>\n",
       "      <td>4.192914e+01</td>\n",
       "      <td>-8.762772e+01</td>\n",
       "      <td>4.192955e+01</td>\n",
       "      <td>-8.762775e+01</td>\n",
       "      <td>0 days 00:22:40</td>\n",
       "    </tr>\n",
       "    <tr>\n",
       "      <td>max</td>\n",
       "      <td>4.208000e+01</td>\n",
       "      <td>-8.752000e+01</td>\n",
       "      <td>4.216812e+01</td>\n",
       "      <td>-8.744000e+01</td>\n",
       "      <td>38 days 20:24:09</td>\n",
       "    </tr>\n",
       "  </tbody>\n",
       "</table>\n",
       "</div>"
      ],
      "text/plain": [
       "          start_lat     start_lng       end_lat       end_lng  \\\n",
       "count  5.296787e+06  5.296787e+06  5.291998e+06  5.291998e+06   \n",
       "mean   4.190183e+01 -8.764574e+01  4.190211e+01 -8.764596e+01   \n",
       "std    4.541528e-02  2.795828e-02  4.552143e-02  2.813829e-02   \n",
       "min    4.164000e+01 -8.784000e+01  4.151000e+01 -8.807000e+01   \n",
       "25%    4.188189e+01 -8.766000e+01  4.188209e+01 -8.766000e+01   \n",
       "50%    4.189964e+01 -8.764178e+01  4.190000e+01 -8.764259e+01   \n",
       "75%    4.192914e+01 -8.762772e+01  4.192955e+01 -8.762775e+01   \n",
       "max    4.208000e+01 -8.752000e+01  4.216812e+01 -8.744000e+01   \n",
       "\n",
       "                  ride_length  \n",
       "count                 5296787  \n",
       "mean   0 days 00:22:50.475192  \n",
       "std    0 days 03:01:35.172420  \n",
       "min           0 days 00:01:00  \n",
       "25%           0 days 00:07:11  \n",
       "50%           0 days 00:12:35  \n",
       "75%           0 days 00:22:40  \n",
       "max          38 days 20:24:09  "
      ]
     },
     "execution_count": 10,
     "metadata": {},
     "output_type": "execute_result"
    }
   ],
   "source": [
    "#Summary of new dataframe\n",
    "df_pos_ride.describe()"
   ]
  },
  {
   "cell_type": "code",
   "execution_count": 11,
   "metadata": {},
   "outputs": [
    {
     "data": {
      "text/plain": [
       "member_casual\n",
       "casual    2437162\n",
       "member    2859625\n",
       "dtype: int64"
      ]
     },
     "execution_count": 11,
     "metadata": {},
     "output_type": "execute_result"
    }
   ],
   "source": [
    "#Find the count of each type of ride\n",
    "df_pos_ride.groupby(['member_casual']).size()"
   ]
  },
  {
   "cell_type": "code",
   "execution_count": 12,
   "metadata": {},
   "outputs": [
    {
     "data": {
      "text/plain": [
       "day_of_week\n",
       "Friday       768420\n",
       "Monday       659515\n",
       "Saturday     958009\n",
       "Sunday       831404\n",
       "Thursday     692664\n",
       "Tuesday      685567\n",
       "Wednesday    701208\n",
       "dtype: int64"
      ]
     },
     "execution_count": 12,
     "metadata": {},
     "output_type": "execute_result"
    }
   ],
   "source": [
    "#Find the count of ride for each day of week\n",
    "df_pos_ride.groupby(['day_of_week']).size()"
   ]
  },
  {
   "cell_type": "code",
   "execution_count": 13,
   "metadata": {},
   "outputs": [
    {
     "data": {
      "text/plain": [
       "rideable_type\n",
       "classic_bike     3027336\n",
       "docked_bike       459314\n",
       "electric_bike    1810137\n",
       "dtype: int64"
      ]
     },
     "execution_count": 13,
     "metadata": {},
     "output_type": "execute_result"
    }
   ],
   "source": [
    "#Find the count of ride for each type of bike\n",
    "df_pos_ride.groupby(['rideable_type']).size()"
   ]
  },
  {
   "cell_type": "code",
   "execution_count": 14,
   "metadata": {},
   "outputs": [
    {
     "data": {
      "text/plain": [
       "start_station_name\n",
       "Streeter Dr & Grand Ave    79922\n",
       "Michigan Ave & Oak St      43943\n",
       "Wells St & Concord Ln      41993\n",
       "Millennium Park            40972\n",
       "Clark St & Elm St          40194\n",
       "Theater on the Lake        37491\n",
       "Wells St & Elm St          36299\n",
       "Clark St & Lincoln Ave     32757\n",
       "Clark St & Armitage Ave    32414\n",
       "Wabash Ave & Grand Ave     31735\n",
       "dtype: int64"
      ]
     },
     "execution_count": 14,
     "metadata": {},
     "output_type": "execute_result"
    }
   ],
   "source": [
    "#Find the count of ride for top 10 start station\n",
    "df_pos_ride.groupby(['start_station_name']).size().nlargest(10)"
   ]
  },
  {
   "cell_type": "code",
   "execution_count": 15,
   "metadata": {},
   "outputs": [
    {
     "data": {
      "text/plain": [
       "end_station_name\n",
       "Streeter Dr & Grand Ave    80327\n",
       "Michigan Ave & Oak St      44431\n",
       "Wells St & Concord Ln      42357\n",
       "Millennium Park            41687\n",
       "Clark St & Elm St          39688\n",
       "Theater on the Lake        37773\n",
       "Wells St & Elm St          36110\n",
       "Clark St & Lincoln Ave     32720\n",
       "Wabash Ave & Grand Ave     32293\n",
       "Clark St & Armitage Ave    31689\n",
       "dtype: int64"
      ]
     },
     "execution_count": 15,
     "metadata": {},
     "output_type": "execute_result"
    }
   ],
   "source": [
    "#Find the count of ride for 10 end station\n",
    "df_pos_ride.groupby(['end_station_name']).size().nlargest(10)"
   ]
  },
  {
   "cell_type": "code",
   "execution_count": 18,
   "metadata": {},
   "outputs": [],
   "source": [
    "df_casual = df_pos_ride[df_pos_ride['member_casual'].isin(['casual'])]\n",
    "df_member = df_pos_ride[df_pos_ride['member_casual'].isin(['member'])]"
   ]
  },
  {
   "cell_type": "code",
   "execution_count": 28,
   "metadata": {},
   "outputs": [
    {
     "data": {
      "text/plain": [
       "<matplotlib.axes._subplots.AxesSubplot at 0x24e112b4448>"
      ]
     },
     "execution_count": 28,
     "metadata": {},
     "output_type": "execute_result"
    },
    {
     "data": {
      "image/png": "[encoded data removed]",
      "text/plain": [
       "<Figure size 432x288 with 1 Axes>"
      ]
     },
     "metadata": {
      "needs_background": "light"
     },
     "output_type": "display_data"
    }
   ],
   "source": [
    "#Casual Rider\n",
    "sns.countplot(x='day_of_week', data=df_casual)"
   ]
  },
  {
   "cell_type": "code",
   "execution_count": 29,
   "metadata": {},
   "outputs": [
    {
     "data": {
      "text/plain": [
       "<matplotlib.axes._subplots.AxesSubplot at 0x24e112f9c08>"
      ]
     },
     "execution_count": 29,
     "metadata": {},
     "output_type": "execute_result"
    },
    {
     "data": {
      "image/png": "[encoded data removed]",
      "text/plain": [
       "<Figure size 432x288 with 1 Axes>"
      ]
     },
     "metadata": {
      "needs_background": "light"
     },
     "output_type": "display_data"
    }
   ],
   "source": [
    "#Member Rider\n",
    "sns.countplot(x='day_of_week', data=df_member)"
   ]
  },
  {
   "cell_type": "code",
   "execution_count": 36,
   "metadata": {},
   "outputs": [
    {
     "data": {
      "text/html": [
       "<div>\n",
       "<style scoped>\n",
       "    .dataframe tbody tr th:only-of-type {\n",
       "        vertical-align: middle;\n",
       "    }\n",
       "\n",
       "    .dataframe tbody tr th {\n",
       "        vertical-align: top;\n",
       "    }\n",
       "\n",
       "    .dataframe thead th {\n",
       "        text-align: right;\n",
       "    }\n",
       "</style>\n",
       "<table border=\"1\" class=\"dataframe\">\n",
       "  <thead>\n",
       "    <tr style=\"text-align: right;\">\n",
       "      <th></th>\n",
       "      <th>start_lat</th>\n",
       "      <th>start_lng</th>\n",
       "      <th>end_lat</th>\n",
       "      <th>end_lng</th>\n",
       "      <th>ride_length</th>\n",
       "    </tr>\n",
       "  </thead>\n",
       "  <tbody>\n",
       "    <tr>\n",
       "      <td>count</td>\n",
       "      <td>2.437162e+06</td>\n",
       "      <td>2.437162e+06</td>\n",
       "      <td>2.433832e+06</td>\n",
       "      <td>2.433832e+06</td>\n",
       "      <td>2437162</td>\n",
       "    </tr>\n",
       "    <tr>\n",
       "      <td>mean</td>\n",
       "      <td>4.190159e+01</td>\n",
       "      <td>-8.764466e+01</td>\n",
       "      <td>4.190195e+01</td>\n",
       "      <td>-8.764492e+01</td>\n",
       "      <td>0 days 00:32:59.593203</td>\n",
       "    </tr>\n",
       "    <tr>\n",
       "      <td>std</td>\n",
       "      <td>4.552359e-02</td>\n",
       "      <td>2.898526e-02</td>\n",
       "      <td>4.561395e-02</td>\n",
       "      <td>2.930510e-02</td>\n",
       "      <td>0 days 04:25:38.372234</td>\n",
       "    </tr>\n",
       "    <tr>\n",
       "      <td>min</td>\n",
       "      <td>4.164000e+01</td>\n",
       "      <td>-8.784000e+01</td>\n",
       "      <td>4.151000e+01</td>\n",
       "      <td>-8.807000e+01</td>\n",
       "      <td>0 days 00:01:00</td>\n",
       "    </tr>\n",
       "    <tr>\n",
       "      <td>25%</td>\n",
       "      <td>4.188196e+01</td>\n",
       "      <td>-8.765897e+01</td>\n",
       "      <td>4.188224e+01</td>\n",
       "      <td>-8.765917e+01</td>\n",
       "      <td>0 days 00:09:32</td>\n",
       "    </tr>\n",
       "    <tr>\n",
       "      <td>50%</td>\n",
       "      <td>4.190000e+01</td>\n",
       "      <td>-8.763917e+01</td>\n",
       "      <td>4.190000e+01</td>\n",
       "      <td>-8.763919e+01</td>\n",
       "      <td>0 days 00:16:37</td>\n",
       "    </tr>\n",
       "    <tr>\n",
       "      <td>75%</td>\n",
       "      <td>4.192877e+01</td>\n",
       "      <td>-8.762581e+01</td>\n",
       "      <td>4.192889e+01</td>\n",
       "      <td>-8.762591e+01</td>\n",
       "      <td>0 days 00:30:16</td>\n",
       "    </tr>\n",
       "    <tr>\n",
       "      <td>max</td>\n",
       "      <td>4.208000e+01</td>\n",
       "      <td>-8.752000e+01</td>\n",
       "      <td>4.216812e+01</td>\n",
       "      <td>-8.744000e+01</td>\n",
       "      <td>38 days 20:24:09</td>\n",
       "    </tr>\n",
       "  </tbody>\n",
       "</table>\n",
       "</div>"
      ],
      "text/plain": [
       "          start_lat     start_lng       end_lat       end_lng  \\\n",
       "count  2.437162e+06  2.437162e+06  2.433832e+06  2.433832e+06   \n",
       "mean   4.190159e+01 -8.764466e+01  4.190195e+01 -8.764492e+01   \n",
       "std    4.552359e-02  2.898526e-02  4.561395e-02  2.930510e-02   \n",
       "min    4.164000e+01 -8.784000e+01  4.151000e+01 -8.807000e+01   \n",
       "25%    4.188196e+01 -8.765897e+01  4.188224e+01 -8.765917e+01   \n",
       "50%    4.190000e+01 -8.763917e+01  4.190000e+01 -8.763919e+01   \n",
       "75%    4.192877e+01 -8.762581e+01  4.192889e+01 -8.762591e+01   \n",
       "max    4.208000e+01 -8.752000e+01  4.216812e+01 -8.744000e+01   \n",
       "\n",
       "                  ride_length  \n",
       "count                 2437162  \n",
       "mean   0 days 00:32:59.593203  \n",
       "std    0 days 04:25:38.372234  \n",
       "min           0 days 00:01:00  \n",
       "25%           0 days 00:09:32  \n",
       "50%           0 days 00:16:37  \n",
       "75%           0 days 00:30:16  \n",
       "max          38 days 20:24:09  "
      ]
     },
     "execution_count": 36,
     "metadata": {},
     "output_type": "execute_result"
    }
   ],
   "source": [
    "df_casual.describe()"
   ]
  },
  {
   "cell_type": "code",
   "execution_count": 37,
   "metadata": {},
   "outputs": [
    {
     "data": {
      "text/html": [
       "<div>\n",
       "<style scoped>\n",
       "    .dataframe tbody tr th:only-of-type {\n",
       "        vertical-align: middle;\n",
       "    }\n",
       "\n",
       "    .dataframe tbody tr th {\n",
       "        vertical-align: top;\n",
       "    }\n",
       "\n",
       "    .dataframe thead th {\n",
       "        text-align: right;\n",
       "    }\n",
       "</style>\n",
       "<table border=\"1\" class=\"dataframe\">\n",
       "  <thead>\n",
       "    <tr style=\"text-align: right;\">\n",
       "      <th></th>\n",
       "      <th>start_lat</th>\n",
       "      <th>start_lng</th>\n",
       "      <th>end_lat</th>\n",
       "      <th>end_lng</th>\n",
       "      <th>ride_length</th>\n",
       "    </tr>\n",
       "  </thead>\n",
       "  <tbody>\n",
       "    <tr>\n",
       "      <td>count</td>\n",
       "      <td>2.859625e+06</td>\n",
       "      <td>2.859625e+06</td>\n",
       "      <td>2.858166e+06</td>\n",
       "      <td>2.858166e+06</td>\n",
       "      <td>2859625</td>\n",
       "    </tr>\n",
       "    <tr>\n",
       "      <td>mean</td>\n",
       "      <td>4.190203e+01</td>\n",
       "      <td>-8.764667e+01</td>\n",
       "      <td>4.190225e+01</td>\n",
       "      <td>-8.764685e+01</td>\n",
       "      <td>0 days 00:14:11.344443</td>\n",
       "    </tr>\n",
       "    <tr>\n",
       "      <td>std</td>\n",
       "      <td>4.532181e-02</td>\n",
       "      <td>2.701797e-02</td>\n",
       "      <td>4.544205e-02</td>\n",
       "      <td>2.707370e-02</td>\n",
       "      <td>0 days 00:27:48.694959</td>\n",
       "    </tr>\n",
       "    <tr>\n",
       "      <td>min</td>\n",
       "      <td>4.164850e+01</td>\n",
       "      <td>-8.784000e+01</td>\n",
       "      <td>4.160000e+01</td>\n",
       "      <td>-8.796000e+01</td>\n",
       "      <td>0 days 00:01:00</td>\n",
       "    </tr>\n",
       "    <tr>\n",
       "      <td>25%</td>\n",
       "      <td>4.188189e+01</td>\n",
       "      <td>-8.766027e+01</td>\n",
       "      <td>4.188189e+01</td>\n",
       "      <td>-8.766029e+01</td>\n",
       "      <td>0 days 00:05:56</td>\n",
       "    </tr>\n",
       "    <tr>\n",
       "      <td>50%</td>\n",
       "      <td>4.189918e+01</td>\n",
       "      <td>-8.764407e+01</td>\n",
       "      <td>4.189993e+01</td>\n",
       "      <td>-8.764410e+01</td>\n",
       "      <td>0 days 00:10:05</td>\n",
       "    </tr>\n",
       "    <tr>\n",
       "      <td>75%</td>\n",
       "      <td>4.192955e+01</td>\n",
       "      <td>-8.763000e+01</td>\n",
       "      <td>4.192974e+01</td>\n",
       "      <td>-8.763000e+01</td>\n",
       "      <td>0 days 00:17:16</td>\n",
       "    </tr>\n",
       "    <tr>\n",
       "      <td>max</td>\n",
       "      <td>4.207000e+01</td>\n",
       "      <td>-8.752000e+01</td>\n",
       "      <td>4.215000e+01</td>\n",
       "      <td>-8.751000e+01</td>\n",
       "      <td>1 days 01:59:56</td>\n",
       "    </tr>\n",
       "  </tbody>\n",
       "</table>\n",
       "</div>"
      ],
      "text/plain": [
       "          start_lat     start_lng       end_lat       end_lng  \\\n",
       "count  2.859625e+06  2.859625e+06  2.858166e+06  2.858166e+06   \n",
       "mean   4.190203e+01 -8.764667e+01  4.190225e+01 -8.764685e+01   \n",
       "std    4.532181e-02  2.701797e-02  4.544205e-02  2.707370e-02   \n",
       "min    4.164850e+01 -8.784000e+01  4.160000e+01 -8.796000e+01   \n",
       "25%    4.188189e+01 -8.766027e+01  4.188189e+01 -8.766029e+01   \n",
       "50%    4.189918e+01 -8.764407e+01  4.189993e+01 -8.764410e+01   \n",
       "75%    4.192955e+01 -8.763000e+01  4.192974e+01 -8.763000e+01   \n",
       "max    4.207000e+01 -8.752000e+01  4.215000e+01 -8.751000e+01   \n",
       "\n",
       "                  ride_length  \n",
       "count                 2859625  \n",
       "mean   0 days 00:14:11.344443  \n",
       "std    0 days 00:27:48.694959  \n",
       "min           0 days 00:01:00  \n",
       "25%           0 days 00:05:56  \n",
       "50%           0 days 00:10:05  \n",
       "75%           0 days 00:17:16  \n",
       "max           1 days 01:59:56  "
      ]
     },
     "execution_count": 37,
     "metadata": {},
     "output_type": "execute_result"
    }
   ],
   "source": [
    "df_member.describe()"
   ]
  },
  {
   "cell_type": "code",
   "execution_count": 38,
   "metadata": {},
   "outputs": [
    {
     "data": {
      "text/plain": [
       "start_station_name\n",
       "Clark St & Elm St            23934\n",
       "Wells St & Concord Ln        22556\n",
       "Kingsbury St & Kinzie St     21614\n",
       "Wells St & Elm St            19977\n",
       "Dearborn St & Erie St        18814\n",
       "Wells St & Huron St          18371\n",
       "St. Clair St & Erie St       18029\n",
       "Broadway & Barry Ave         17612\n",
       "Clark St & Armitage Ave      16395\n",
       "Desplaines St & Kinzie St    16059\n",
       "dtype: int64"
      ]
     },
     "execution_count": 38,
     "metadata": {},
     "output_type": "execute_result"
    }
   ],
   "source": [
    "df_member.groupby(['start_station_name']).size().nlargest(10)"
   ]
  },
  {
   "cell_type": "code",
   "execution_count": 39,
   "metadata": {},
   "outputs": [
    {
     "data": {
      "text/plain": [
       "start_station_name\n",
       "Streeter Dr & Grand Ave       64233\n",
       "Millennium Park               32937\n",
       "Michigan Ave & Oak St         29637\n",
       "Shedd Aquarium                22242\n",
       "Theater on the Lake           21584\n",
       "Lake Shore Dr & Monroe St     21167\n",
       "Wells St & Concord Ln         19437\n",
       "Clark St & Lincoln Ave        16821\n",
       "Indiana Ave & Roosevelt Rd    16653\n",
       "Wells St & Elm St             16322\n",
       "dtype: int64"
      ]
     },
     "execution_count": 39,
     "metadata": {},
     "output_type": "execute_result"
    }
   ],
   "source": [
    "df_casual.groupby(['start_station_name']).size().nlargest(10)"
   ]
  },
  {
   "cell_type": "code",
   "execution_count": 40,
   "metadata": {},
   "outputs": [
    {
     "data": {
      "text/plain": [
       "end_station_name\n",
       "Clark St & Elm St           24246\n",
       "Wells St & Concord Ln       23277\n",
       "Kingsbury St & Kinzie St    21884\n",
       "Wells St & Elm St           20677\n",
       "Dearborn St & Erie St       19481\n",
       "Broadway & Barry Ave        18235\n",
       "St. Clair St & Erie St      18114\n",
       "Wells St & Huron St         17842\n",
       "Green St & Madison St       16002\n",
       "Clark St & Armitage Ave     15932\n",
       "dtype: int64"
      ]
     },
     "execution_count": 40,
     "metadata": {},
     "output_type": "execute_result"
    }
   ],
   "source": [
    "df_member.groupby(['end_station_name']).size().nlargest(10)"
   ]
  },
  {
   "cell_type": "code",
   "execution_count": 41,
   "metadata": {},
   "outputs": [
    {
     "data": {
      "text/plain": [
       "end_station_name\n",
       "Streeter Dr & Grand Ave       66244\n",
       "Millennium Park               33846\n",
       "Michigan Ave & Oak St         30990\n",
       "Theater on the Lake           23113\n",
       "Shedd Aquarium                20589\n",
       "Lake Shore Dr & Monroe St     19745\n",
       "Wells St & Concord Ln         19080\n",
       "Lake Shore Dr & North Blvd    18124\n",
       "Clark St & Lincoln Ave        17077\n",
       "Wabash Ave & Grand Ave        16783\n",
       "dtype: int64"
      ]
     },
     "execution_count": 41,
     "metadata": {},
     "output_type": "execute_result"
    }
   ],
   "source": [
    "df_casual.groupby(['end_station_name']).size().nlargest(10)"
   ]
  },
  {
   "cell_type": "code",
   "execution_count": 44,
   "metadata": {},
   "outputs": [
    {
     "name": "stderr",
     "output_type": "stream",
     "text": [
      "C:\\Users\\Aryan\\Anaconda3\\lib\\site-packages\\seaborn\\_decorators.py:43: FutureWarning: Pass the following variable as a keyword arg: x. From version 0.12, the only valid positional argument will be `data`, and passing other arguments without an explicit keyword will result in an error or misinterpretation.\n",
      "  FutureWarning\n"
     ]
    },
    {
     "data": {
      "text/plain": [
       "<matplotlib.axes._subplots.AxesSubplot at 0x24e695ec248>"
      ]
     },
     "execution_count": 44,
     "metadata": {},
     "output_type": "execute_result"
    },
    {
     "data": {
      "image/png": "[encoded data removed]",
      "text/plain": [
       "<Figure size 432x288 with 1 Axes>"
      ]
     },
     "metadata": {
      "needs_background": "light"
     },
     "output_type": "display_data"
    }
   ],
   "source": [
    "sns.countplot(pd.to_datetime(df_casual['started_at'],format=\"%Y-%m-%d %H:%M:%S\").dt.date)"
   ]
  },
  {
   "cell_type": "code",
   "execution_count": 45,
   "metadata": {},
   "outputs": [
    {
     "name": "stderr",
     "output_type": "stream",
     "text": [
      "C:\\Users\\Aryan\\Anaconda3\\lib\\site-packages\\seaborn\\_decorators.py:43: FutureWarning: Pass the following variable as a keyword arg: x. From version 0.12, the only valid positional argument will be `data`, and passing other arguments without an explicit keyword will result in an error or misinterpretation.\n",
      "  FutureWarning\n"
     ]
    },
    {
     "data": {
      "text/plain": [
       "<matplotlib.axes._subplots.AxesSubplot at 0x24e0ec12548>"
      ]
     },
     "execution_count": 45,
     "metadata": {},
     "output_type": "execute_result"
    },
    {
     "data": {
      "image/png": "[encoded data removed]",
      "text/plain": [
       "<Figure size 432x288 with 1 Axes>"
      ]
     },
     "metadata": {
      "needs_background": "light"
     },
     "output_type": "display_data"
    }
   ],
   "source": [
    "sns.countplot(pd.to_datetime(df_member['started_at'],format=\"%Y-%m-%d %H:%M:%S\").dt.date)"
   ]
  },
  {
   "cell_type": "code",
   "execution_count": null,
   "metadata": {},
   "outputs": [],
   "source": []
  }
 ],
 "metadata": {
  "kernelspec": {
   "display_name": "Python 3",
   "language": "python",
   "name": "python3"
  },
  "language_info": {
   "codemirror_mode": {
    "name": "ipython",
    "version": 3
   },
   "file_extension": ".py",
   "mimetype": "text/x-python",
   "name": "python",
   "nbconvert_exporter": "python",
   "pygments_lexer": "ipython3",
   "version": "3.7.4"
  }
 },
 "nbformat": 4,
 "nbformat_minor": 2
}
